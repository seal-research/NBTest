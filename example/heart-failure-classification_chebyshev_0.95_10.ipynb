{
 "cells": [
  {
   "cell_type": "code",
   "execution_count": null,
   "id": "a06ff703",
   "metadata": {},
   "outputs": [],
   "source": [
    "import nbtest\n",
    "import json\n",
    "import numpy as np\n",
    "random_seed = np.random.randint(10000)"
   ]
  },
  {
   "cell_type": "code",
   "execution_count": null,
   "id": "80aa3a74",
   "metadata": {},
   "outputs": [],
   "source": [
    "import pandas as pd\n",
    "import matplotlib.pyplot as plt\n",
    "df = pd.read_csv('./heart_failure.csv')\n",
    "nbtest.assert_nanvar(df, 5655280085.135918, atol=0.0, test_id='4')\n",
    "nbtest.assert_nanmean(df, 20331.504464625676, atol=0.0, test_id='3')\n",
    "nbtest.assert_column_types(df, ['int64', 'float64', 'int64', 'int64', 'int64', 'int64', 'int64', 'float64', 'float64', 'int64', 'int64', 'int64', 'int64'], test_id='2')\n",
    "nbtest.assert_column_names(df, ['DEATH_EVENT', 'age', 'anaemia', 'creatinine_phosphokinase', 'diabetes', 'ejection_fraction', 'high_blood_pressure', 'platelets', 'serum_creatinine', 'serum_sodium', 'sex', 'smoking', 'time'], test_id='1')\n",
    "nbtest.assert_equal(df.shape, (299, 13), test_id='0')"
   ]
  },
  {
   "cell_type": "code",
   "execution_count": null,
   "id": "8062aa4b",
   "metadata": {},
   "outputs": [],
   "source": [
    "nbtest_tmpvar_0 = df.head(n=10)\n",
    "nbtest.assert_nanvar(nbtest_tmpvar_0, 5735375787.815457, atol=4.264961199760034e-06, test_id='9')\n",
    "nbtest.assert_nanmean(nbtest_tmpvar_0, 20584.102000000003, atol=1.6269535826721323e-11, test_id='8')\n",
    "nbtest.assert_column_types(nbtest_tmpvar_0, ['int64', 'float64', 'int64', 'int64', 'int64', 'int64', 'int64', 'float64', 'float64', 'int64', 'int64', 'int64', 'int64'], test_id='7')\n",
    "nbtest.assert_column_names(nbtest_tmpvar_0, ['DEATH_EVENT', 'age', 'anaemia', 'creatinine_phosphokinase', 'diabetes', 'ejection_fraction', 'high_blood_pressure', 'platelets', 'serum_creatinine', 'serum_sodium', 'sex', 'smoking', 'time'], test_id='6')\n",
    "nbtest.assert_equal(nbtest_tmpvar_0.shape, (10, 13), test_id='5')"
   ]
  },
  {
   "cell_type": "code",
   "execution_count": null,
   "id": "9d2f20ad",
   "metadata": {},
   "outputs": [],
   "source": [
    "df.info()"
   ]
  },
  {
   "cell_type": "code",
   "execution_count": null,
   "id": "22d35235",
   "metadata": {},
   "outputs": [],
   "source": [
    "nbtest_tmpvar_2 = df.isnull().any()\n",
    "nbtest.assert_allclose(nbtest_tmpvar_2.sum(), 0.0, atol=0.0, test_id='10')"
   ]
  },
  {
   "cell_type": "code",
   "execution_count": null,
   "id": "bdfaf2b7",
   "metadata": {},
   "outputs": [],
   "source": [
    "df.shape\n",
    "nbtest.assert_equal(df.shape, (299, 13), test_id='11')"
   ]
  },
  {
   "cell_type": "code",
   "execution_count": null,
   "id": "1476e62d",
   "metadata": {},
   "outputs": [],
   "source": [
    "nbtest_tmpvar_3 = df.describe()\n",
    "nbtest.assert_nanvar(nbtest_tmpvar_3, 9311258132.272375, atol=8.529922399520069e-06, test_id='16')\n",
    "nbtest.assert_nanmean(nbtest_tmpvar_3, 19528.024571370242, atol=0.0, test_id='15')\n",
    "nbtest.assert_column_types(nbtest_tmpvar_3, ['float64', 'float64', 'float64', 'float64', 'float64', 'float64', 'float64', 'float64', 'float64', 'float64', 'float64', 'float64', 'float64'], test_id='14')\n",
    "nbtest.assert_column_names(nbtest_tmpvar_3, ['DEATH_EVENT', 'age', 'anaemia', 'creatinine_phosphokinase', 'diabetes', 'ejection_fraction', 'high_blood_pressure', 'platelets', 'serum_creatinine', 'serum_sodium', 'sex', 'smoking', 'time'], test_id='13')\n",
    "nbtest.assert_equal(nbtest_tmpvar_3.shape, (8, 13), test_id='12')"
   ]
  },
  {
   "cell_type": "code",
   "execution_count": null,
   "id": "6b3454ec",
   "metadata": {},
   "outputs": [],
   "source": [
    "for i in df.columns:\n",
    "  print(i)\n",
    "  print(df[f\"{i}\"].value_counts())"
   ]
  },
  {
   "cell_type": "code",
   "execution_count": null,
   "id": "81aac775",
   "metadata": {},
   "outputs": [],
   "source": [
    "import seaborn as sns\n",
    "import matplotlib.pyplot as plt\n",
    "sns.pairplot(df, vars=['age', 'anaemia', 'creatinine_phosphokinase', 'diabetes',\n",
    "       'ejection_fraction', 'high_blood_pressure', 'platelets',\n",
    "       'serum_creatinine', 'serum_sodium', 'sex', 'smoking', 'time','DEATH_EVENT'], hue='DEATH_EVENT')\n",
    "plt.show()"
   ]
  },
  {
   "cell_type": "code",
   "execution_count": null,
   "id": "71c2a3c9",
   "metadata": {},
   "outputs": [],
   "source": [
    "korelasyon_matrisi = df.corr().abs()\n",
    "plt.figure(figsize=(8, 6), dpi=100)\n",
    "sns.heatmap(korelasyon_matrisi, annot=True, cmap='rocket_r', fmt=\".2f\", linewidths=1)\n",
    "plt.title(\"Korelasyon Heatmap\")\n",
    "plt.show()"
   ]
  },
  {
   "cell_type": "code",
   "execution_count": null,
   "id": "71cda43a",
   "metadata": {},
   "outputs": [],
   "source": [
    "print(df.corr().abs()[\"DEATH_EVENT\"].nlargest(15))"
   ]
  },
  {
   "cell_type": "code",
   "execution_count": null,
   "id": "852963bf",
   "metadata": {},
   "outputs": [],
   "source": [
    "col_reduced = df.corr().abs()[\"DEATH_EVENT\"].nlargest(6).index\n",
    "col_reduced"
   ]
  },
  {
   "cell_type": "code",
   "execution_count": null,
   "id": "de7e56ef",
   "metadata": {},
   "outputs": [],
   "source": [
    "x = df[['time', 'serum_creatinine', 'ejection_fraction', 'age', 'serum_sodium']].values # Numpy Array\n",
    "y = df.iloc[:,-1].values # Numpy Array"
   ]
  },
  {
   "cell_type": "code",
   "execution_count": null,
   "id": "d53603c4",
   "metadata": {},
   "outputs": [],
   "source": [
    "from sklearn.model_selection import train_test_split\n",
    "x_train, x_test, y_train, y_test = train_test_split(x, y, test_size=0.2, random_state=2)"
   ]
  },
  {
   "cell_type": "code",
   "execution_count": null,
   "id": "2d6d2a16",
   "metadata": {},
   "outputs": [],
   "source": [
    "from sklearn.metrics import roc_curve, auc, accuracy_score\n",
    "from sklearn.metrics import confusion_matrix\n",
    "from sklearn.metrics import ConfusionMatrixDisplay\n",
    "from sklearn.preprocessing import StandardScaler\n",
    "sc=StandardScaler()\n",
    "X_train = sc.fit_transform(x_train)\n",
    "X_test = sc.transform(x_test)"
   ]
  },
  {
   "cell_type": "code",
   "execution_count": null,
   "id": "db8959a7",
   "metadata": {},
   "outputs": [],
   "source": [
    "from sklearn.linear_model import LogisticRegression\n",
    "logr = LogisticRegression(random_state=0)\n",
    "nbtest.assert_equal({k: v for k, v in logr.get_params().items() if k != 'random_state' and not (hasattr(v, '__module__') and v.__module__.startswith('sklearn'))}, {'C': 1.0, 'class_weight': None, 'dual': False, 'fit_intercept': True, 'intercept_scaling': 1, 'l1_ratio': None, 'max_iter': 100, 'multi_class': 'deprecated', 'n_jobs': None, 'penalty': 'l2', 'solver': 'lbfgs', 'tol': 0.0001, 'verbose': 0, 'warm_start': False}, test_id='17')\n",
    "nbtest_tmpvar_4 = logr.fit(X_train, y_train)\n",
    "nbtest.assert_equal({k: v for k, v in nbtest_tmpvar_4.get_params().items() if k != 'random_state' and not (hasattr(v, '__module__') and v.__module__.startswith('sklearn'))}, {'C': 1.0, 'class_weight': None, 'dual': False, 'fit_intercept': True, 'intercept_scaling': 1, 'l1_ratio': None, 'max_iter': 100, 'multi_class': 'deprecated', 'n_jobs': None, 'penalty': 'l2', 'solver': 'lbfgs', 'tol': 0.0001, 'verbose': 0, 'warm_start': False}, test_id='18')\n",
    "y_pred = logr.predict(X_test)\n",
    "cm = confusion_matrix(y_test, y_pred, labels=logr.classes_)\n",
    "disp = ConfusionMatrixDisplay(confusion_matrix=cm, display_labels=logr.classes_)\n",
    "disp.plot(cmap='YlGnBu')\n",
    "plt.show()\n",
    "print()\n",
    "print('accuracy: ', accuracy_score(y_test, y_pred))\n",
    "nbtest.assert_allclose(accuracy_score(y_test, y_pred), 0.8366666666666667, atol=0.22803508501982755, test_id='19')"
   ]
  },
  {
   "cell_type": "code",
   "execution_count": null,
   "id": "3bc8f556",
   "metadata": {},
   "outputs": [],
   "source": [
    "import sklearn\n",
    "y_proba = logr.predict_proba(X_test)\n",
    "fpr, tpr, thresholds = roc_curve(y_test, y_proba[:, 1], pos_label=1)\n",
    "roc_auc = auc(fpr, tpr)\n",
    "nbtest.assert_allclose(roc_auc, 0.879649806294345, atol=0.17125788224786267, test_id='20')\n",
    "plt.figure(figsize=(10, 6))\n",
    "plt.plot(fpr, tpr, color='darkorange', lw=2, label='ROC curve (area = {:.2f})'.format(roc_auc))\n",
    "plt.plot([0, 1], [0, 1], color='navy', lw=2, linestyle='--')\n",
    "plt.xlim([0.0, 1.0])\n",
    "plt.ylim([0.0, 1.05])\n",
    "plt.xlabel('False Positive Rate')\n",
    "plt.ylabel('True Positive Rate')\n",
    "plt.title('Receiver Operating Characteristic (ROC) Curve')\n",
    "plt.legend(loc='lower right')\n",
    "plt.show()\n",
    "print(sklearn.metrics.roc_auc_score(y_test, y_pred))\n",
    "nbtest.assert_allclose(sklearn.metrics.roc_auc_score(y_test, y_pred), 0.7950888178190416, atol=0.28481646516153264, test_id='21')"
   ]
  },
  {
   "cell_type": "code",
   "execution_count": null,
   "id": "c9a5f502",
   "metadata": {},
   "outputs": [],
   "source": [
    "from sklearn.neighbors import KNeighborsClassifier\n",
    "knn = KNeighborsClassifier(n_neighbors=5, metric='euclidean')\n",
    "nbtest.assert_equal({k: v for k, v in knn.get_params().items() if k != 'random_state' and not (hasattr(v, '__module__') and v.__module__.startswith('sklearn'))}, {'algorithm': 'auto', 'leaf_size': 30, 'metric': 'euclidean', 'metric_params': None, 'n_jobs': None, 'n_neighbors': 5, 'p': 2, 'weights': 'uniform'}, test_id='22')\n",
    "nbtest_tmpvar_5 = knn.fit(X_train, y_train)\n",
    "nbtest.assert_equal({k: v for k, v in nbtest_tmpvar_5.get_params().items() if k != 'random_state' and not (hasattr(v, '__module__') and v.__module__.startswith('sklearn'))}, {'algorithm': 'auto', 'leaf_size': 30, 'metric': 'euclidean', 'metric_params': None, 'n_jobs': None, 'n_neighbors': 5, 'p': 2, 'weights': 'uniform'}, test_id='23')\n",
    "y_pred = knn.predict(X_test)\n",
    "cm = confusion_matrix(y_test, y_pred, labels=knn.classes_)\n",
    "disp = ConfusionMatrixDisplay(confusion_matrix=cm, display_labels=knn.classes_)\n",
    "disp.plot(cmap='YlGnBu')\n",
    "plt.show()\n",
    "print()\n",
    "print('accuracy: ', accuracy_score(y_test, y_pred))\n",
    "nbtest.assert_allclose(accuracy_score(y_test, y_pred), 0.7933333333333332, atol=0.2241031508529547, test_id='24')"
   ]
  },
  {
   "cell_type": "code",
   "execution_count": null,
   "id": "411010d6",
   "metadata": {},
   "outputs": [],
   "source": [
    "import matplotlib.pyplot as plt\n",
    "y_proba = knn.predict_proba(X_test)\n",
    "fpr, tpr, thresholds = roc_curve(y_test, y_proba[:, 1], pos_label=1)\n",
    "roc_auc = auc(fpr, tpr)\n",
    "nbtest.assert_allclose(roc_auc, 0.8526181582155251, atol=0.19960554629895635, test_id='25')\n",
    "plt.figure(figsize=(10, 6))\n",
    "plt.plot(fpr, tpr, color='darkorange', lw=2, label='ROC curve (area = {:.2f})'.format(roc_auc))\n",
    "plt.plot([0, 1], [0, 1], color='navy', lw=2, linestyle='--')\n",
    "plt.xlim([0.0, 1.0])\n",
    "plt.ylim([0.0, 1.05])\n",
    "plt.xlabel('False Positive Rate')\n",
    "plt.ylabel('True Positive Rate')\n",
    "plt.title('Receiver Operating Characteristic (ROC) Curve')\n",
    "plt.legend(loc='lower right')\n",
    "plt.show()\n",
    "print(sklearn.metrics.roc_auc_score(y_test, y_pred))\n",
    "nbtest.assert_allclose(sklearn.metrics.roc_auc_score(y_test, y_pred), 0.754892604335632, atol=0.1971605321381603, test_id='26')"
   ]
  },
  {
   "cell_type": "code",
   "execution_count": null,
   "id": "614c5b1b",
   "metadata": {},
   "outputs": [],
   "source": [
    "from sklearn.svm import SVC\n",
    "svc = SVC(kernel='rbf', probability=True)\n",
    "nbtest.assert_equal({k: v for k, v in svc.get_params().items() if k != 'random_state' and not (hasattr(v, '__module__') and v.__module__.startswith('sklearn'))}, {'C': 1.0, 'break_ties': False, 'cache_size': 200, 'class_weight': None, 'coef0': 0.0, 'decision_function_shape': 'ovr', 'degree': 3, 'gamma': 'scale', 'kernel': 'rbf', 'max_iter': -1, 'probability': True, 'shrinking': True, 'tol': 0.001, 'verbose': False}, test_id='27')\n",
    "nbtest_tmpvar_6 = svc.fit(X_train, y_train)\n",
    "nbtest.assert_equal({k: v for k, v in nbtest_tmpvar_6.get_params().items() if k != 'random_state' and not (hasattr(v, '__module__') and v.__module__.startswith('sklearn'))}, {'C': 1.0, 'break_ties': False, 'cache_size': 200, 'class_weight': None, 'coef0': 0.0, 'decision_function_shape': 'ovr', 'degree': 3, 'gamma': 'scale', 'kernel': 'rbf', 'max_iter': -1, 'probability': True, 'shrinking': True, 'tol': 0.001, 'verbose': False}, test_id='28')\n",
    "y_pred = svc.predict(X_test)\n",
    "cm = confusion_matrix(y_test, y_pred, labels=svc.classes_)\n",
    "disp = ConfusionMatrixDisplay(confusion_matrix=cm, display_labels=svc.classes_)\n",
    "disp.plot(cmap='YlGnBu')\n",
    "plt.show()\n",
    "print()\n",
    "print('accuracy: ', accuracy_score(y_test, y_pred))\n",
    "nbtest.assert_allclose(accuracy_score(y_test, y_pred), 0.8033333333333333, atol=0.21807236311728154, test_id='29')"
   ]
  },
  {
   "cell_type": "code",
   "execution_count": null,
   "id": "f0163412",
   "metadata": {},
   "outputs": [],
   "source": [
    "import matplotlib.pyplot as plt\n",
    "y_proba = svc.predict_proba(X_test)\n",
    "fpr, tpr, thresholds = roc_curve(y_test, y_proba[:, 1], pos_label=1)\n",
    "roc_auc = auc(fpr, tpr)\n",
    "nbtest.assert_allclose(roc_auc, 0.8837812631309425, atol=0.1825955906896347, test_id='30')\n",
    "plt.figure(figsize=(10, 6))\n",
    "plt.plot(fpr, tpr, color='darkorange', lw=2, label='ROC curve (area = {:.2f})'.format(roc_auc))\n",
    "plt.plot([0, 1], [0, 1], color='navy', lw=2, linestyle='--')\n",
    "plt.xlim([0.0, 1.0])\n",
    "plt.ylim([0.0, 1.05])\n",
    "plt.xlabel('False Positive Rate')\n",
    "plt.ylabel('True Positive Rate')\n",
    "plt.title('Receiver Operating Characteristic (ROC) Curve')\n",
    "plt.legend(loc='lower right')\n",
    "plt.show()\n",
    "print(sklearn.metrics.roc_auc_score(y_test, y_pred))\n",
    "nbtest.assert_allclose(sklearn.metrics.roc_auc_score(y_test, y_pred), 0.7699775872446676, atol=0.20968414406366329, test_id='31')"
   ]
  },
  {
   "cell_type": "code",
   "execution_count": null,
   "id": "6f76c15c",
   "metadata": {},
   "outputs": [],
   "source": [
    "from sklearn.naive_bayes import GaussianNB\n",
    "gnb = GaussianNB()\n",
    "nbtest.assert_equal({k: v for k, v in gnb.get_params().items() if k != 'random_state' and not (hasattr(v, '__module__') and v.__module__.startswith('sklearn'))}, {'priors': None, 'var_smoothing': 1e-09}, test_id='32')\n",
    "nbtest_tmpvar_7 = gnb.fit(X_train, y_train)\n",
    "nbtest.assert_equal({k: v for k, v in nbtest_tmpvar_7.get_params().items() if k != 'random_state' and not (hasattr(v, '__module__') and v.__module__.startswith('sklearn'))}, {'priors': None, 'var_smoothing': 1e-09}, test_id='33')\n",
    "y_pred = gnb.predict(X_test)\n",
    "cm = confusion_matrix(y_test, y_pred, labels=gnb.classes_)\n",
    "disp = ConfusionMatrixDisplay(confusion_matrix=cm, display_labels=gnb.classes_)\n",
    "disp.plot(cmap='YlGnBu')\n",
    "plt.show()\n",
    "print()\n",
    "print('accuracy: ', accuracy_score(y_test, y_pred))\n",
    "nbtest.assert_allclose(accuracy_score(y_test, y_pred), 0.7966666666666666, atol=0.19944367068868785, test_id='34')"
   ]
  },
  {
   "cell_type": "code",
   "execution_count": null,
   "id": "c9861af1",
   "metadata": {},
   "outputs": [],
   "source": [
    "import matplotlib.pyplot as plt\n",
    "y_proba = gnb.predict_proba(X_test)\n",
    "fpr, tpr, thresholds = roc_curve(y_test, y_proba[:, 1], pos_label=1)\n",
    "roc_auc = auc(fpr, tpr)\n",
    "nbtest.assert_allclose(roc_auc, 0.8711915666590813, atol=0.1770003152558408, test_id='35')\n",
    "plt.figure(figsize=(10, 6))\n",
    "plt.plot(fpr, tpr, color='darkorange', lw=2, label='ROC curve (area = {:.2f})'.format(roc_auc))\n",
    "plt.plot([0, 1], [0, 1], color='navy', lw=2, linestyle='--')\n",
    "plt.xlim([0.0, 1.0])\n",
    "plt.ylim([0.0, 1.05])\n",
    "plt.xlabel('False Positive Rate')\n",
    "plt.ylabel('True Positive Rate')\n",
    "plt.title('Receiver Operating Characteristic (ROC) Curve')\n",
    "plt.legend(loc='lower right')\n",
    "plt.show()\n",
    "print(sklearn.metrics.roc_auc_score(y_test, y_pred))\n",
    "nbtest.assert_allclose(sklearn.metrics.roc_auc_score(y_test, y_pred), 0.7311212668797955, atol=0.30587325719190234, test_id='36')"
   ]
  },
  {
   "cell_type": "code",
   "execution_count": null,
   "id": "cbaad399",
   "metadata": {},
   "outputs": [],
   "source": [
    "from sklearn.tree import DecisionTreeClassifier\n",
    "dtc = DecisionTreeClassifier(criterion='entropy', random_state=10)\n",
    "nbtest.assert_equal({k: v for k, v in dtc.get_params().items() if k != 'random_state' and not (hasattr(v, '__module__') and v.__module__.startswith('sklearn'))}, {'ccp_alpha': 0.0, 'class_weight': None, 'criterion': 'entropy', 'max_depth': None, 'max_features': None, 'max_leaf_nodes': None, 'min_impurity_decrease': 0.0, 'min_samples_leaf': 1, 'min_samples_split': 2, 'min_weight_fraction_leaf': 0.0, 'monotonic_cst': None, 'splitter': 'best'}, test_id='37')\n",
    "nbtest_tmpvar_8 = dtc.fit(X_train, y_train)\n",
    "nbtest.assert_equal({k: v for k, v in nbtest_tmpvar_8.get_params().items() if k != 'random_state' and not (hasattr(v, '__module__') and v.__module__.startswith('sklearn'))}, {'ccp_alpha': 0.0, 'class_weight': None, 'criterion': 'entropy', 'max_depth': None, 'max_features': None, 'max_leaf_nodes': None, 'min_impurity_decrease': 0.0, 'min_samples_leaf': 1, 'min_samples_split': 2, 'min_weight_fraction_leaf': 0.0, 'monotonic_cst': None, 'splitter': 'best'}, test_id='38')\n",
    "y_pred = dtc.predict(X_test)\n",
    "cm = confusion_matrix(y_test, y_pred, labels=dtc.classes_)\n",
    "disp = ConfusionMatrixDisplay(confusion_matrix=cm, display_labels=dtc.classes_)\n",
    "disp.plot(cmap='YlGnBu')\n",
    "plt.show()\n",
    "print()\n",
    "print('accuracy: ', accuracy_score(y_test, y_pred))\n",
    "nbtest.assert_allclose(accuracy_score(y_test, y_pred), 0.8083333333333333, atol=0.1833333333333333, test_id='39')"
   ]
  },
  {
   "cell_type": "code",
   "execution_count": null,
   "id": "3adf1bf8",
   "metadata": {},
   "outputs": [],
   "source": [
    "import matplotlib.pyplot as plt\n",
    "y_proba = dtc.predict_proba(X_test)\n",
    "fpr, tpr, thresholds = roc_curve(y_test, y_proba[:, 1], pos_label=1)\n",
    "roc_auc = auc(fpr, tpr)\n",
    "nbtest.assert_allclose(roc_auc, 0.7795700965378851, atol=0.22041137475907085, test_id='40')\n",
    "plt.figure(figsize=(10, 6))\n",
    "plt.plot(fpr, tpr, color='darkorange', lw=2, label='ROC curve (area = {:.2f})'.format(roc_auc))\n",
    "plt.plot([0, 1], [0, 1], color='navy', lw=2, linestyle='--')\n",
    "plt.xlim([0.0, 1.0])\n",
    "plt.ylim([0.0, 1.05])\n",
    "plt.xlabel('False Positive Rate')\n",
    "plt.ylabel('True Positive Rate')\n",
    "plt.title('Receiver Operating Characteristic (ROC) Curve')\n",
    "plt.legend(loc='lower right')\n",
    "plt.show()\n",
    "print(sklearn.metrics.roc_auc_score(y_test, y_pred))\n",
    "nbtest.assert_allclose(sklearn.metrics.roc_auc_score(y_test, y_pred), 0.7795700965378851, atol=0.22041137475907085, test_id='41')"
   ]
  },
  {
   "cell_type": "code",
   "execution_count": null,
   "id": "0467df28",
   "metadata": {},
   "outputs": [],
   "source": [
    "from sklearn.ensemble import RandomForestClassifier\n",
    "rfc = RandomForestClassifier(n_estimators=35, criterion='entropy', random_state=24)\n",
    "nbtest.assert_equal({k: v for k, v in rfc.get_params().items() if k != 'random_state' and not (hasattr(v, '__module__') and v.__module__.startswith('sklearn'))}, {'bootstrap': True, 'ccp_alpha': 0.0, 'class_weight': None, 'criterion': 'entropy', 'max_depth': None, 'max_features': 'sqrt', 'max_leaf_nodes': None, 'max_samples': None, 'min_impurity_decrease': 0.0, 'min_samples_leaf': 1, 'min_samples_split': 2, 'min_weight_fraction_leaf': 0.0, 'monotonic_cst': None, 'n_estimators': 35, 'n_jobs': None, 'oob_score': False, 'verbose': 0, 'warm_start': False}, test_id='42')\n",
    "nbtest_tmpvar_9 = rfc.fit(X_train, y_train)\n",
    "nbtest.assert_equal({k: v for k, v in nbtest_tmpvar_9.get_params().items() if k != 'random_state' and not (hasattr(v, '__module__') and v.__module__.startswith('sklearn'))}, {'bootstrap': True, 'ccp_alpha': 0.0, 'class_weight': None, 'criterion': 'entropy', 'max_depth': None, 'max_features': 'sqrt', 'max_leaf_nodes': None, 'max_samples': None, 'min_impurity_decrease': 0.0, 'min_samples_leaf': 1, 'min_samples_split': 2, 'min_weight_fraction_leaf': 0.0, 'monotonic_cst': None, 'n_estimators': 35, 'n_jobs': None, 'oob_score': False, 'verbose': 0, 'warm_start': False}, test_id='43')\n",
    "y_pred = rfc.predict(X_test)\n",
    "cm = confusion_matrix(y_test, y_pred, labels=rfc.classes_)\n",
    "disp = ConfusionMatrixDisplay(confusion_matrix=cm, display_labels=rfc.classes_)\n",
    "disp.plot(cmap='YlGnBu')\n",
    "plt.show()\n",
    "print()\n",
    "print('accuracy: ', accuracy_score(y_test, y_pred))\n",
    "nbtest.assert_allclose(accuracy_score(y_test, y_pred), 0.8383333333333333, atol=0.19450792614526863, test_id='44')"
   ]
  },
  {
   "cell_type": "code",
   "execution_count": null,
   "id": "9a386f8f",
   "metadata": {},
   "outputs": [],
   "source": [
    "import matplotlib.pyplot as plt\n",
    "y_proba = rfc.predict_proba(X_test)\n",
    "fpr, tpr, thresholds = roc_curve(y_test, y_proba[:, 1], pos_label=1)\n",
    "roc_auc = auc(fpr, tpr)\n",
    "nbtest.assert_allclose(roc_auc, 0.9087995005334324, atol=0.1741363575129908, test_id='45')\n",
    "plt.figure(figsize=(10, 6))\n",
    "plt.plot(fpr, tpr, color='darkorange', lw=2, label='ROC curve (area = {:.2f})'.format(roc_auc))\n",
    "plt.plot([0, 1], [0, 1], color='navy', lw=2, linestyle='--')\n",
    "plt.xlim([0.0, 1.0])\n",
    "plt.ylim([0.0, 1.05])\n",
    "plt.xlabel('False Positive Rate')\n",
    "plt.ylabel('True Positive Rate')\n",
    "plt.title('Receiver Operating Characteristic (ROC) Curve')\n",
    "plt.legend(loc='lower right')\n",
    "plt.show()\n",
    "print(sklearn.metrics.roc_auc_score(y_test, y_pred))\n",
    "nbtest.assert_allclose(sklearn.metrics.roc_auc_score(y_test, y_pred), 0.8091096067562772, atol=0.24322145504535575, test_id='46')"
   ]
  }
 ],
 "metadata": {
  "kernelspec": {
   "display_name": "Python 3 (ipykernel)",
   "language": "python",
   "name": "python3"
  },
  "language_info": {
   "codemirror_mode": {
    "name": "ipython",
    "version": 3
   },
   "file_extension": ".py",
   "mimetype": "text/x-python",
   "name": "python",
   "nbconvert_exporter": "python",
   "pygments_lexer": "ipython3",
   "version": "3.11.11"
  }
 },
 "nbformat": 4,
 "nbformat_minor": 5
}
