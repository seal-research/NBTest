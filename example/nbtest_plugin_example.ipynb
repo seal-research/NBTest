{
 "cells": [
  {
   "cell_type": "code",
   "execution_count": null,
   "id": "a403ff6d-3632-40d1-955c-41c2e117a2d4",
   "metadata": {},
   "outputs": [],
   "source": [
    "import nbtest\n",
    "import math\n",
    "import numpy as np\n",
    "\n",
    "nbtest.assert_equal(round(math.pi, 2), 3.14)\n",
    "nbtest.assert_true(math.pi == 3)\n",
    "\n",
    "print(f'PI: {math.pi}')"
   ]
  }
 ],
 "metadata": {
  "kernelspec": {
   "display_name": "Python 3 (ipykernel)",
   "language": "python",
   "name": "python3"
  },
  "language_info": {
   "codemirror_mode": {
    "name": "ipython",
    "version": 3
   },
   "file_extension": ".py",
   "mimetype": "text/x-python",
   "name": "python",
   "nbconvert_exporter": "python",
   "pygments_lexer": "ipython3",
   "version": "3.11.11"
  }
 },
 "nbformat": 4,
 "nbformat_minor": 5
}
