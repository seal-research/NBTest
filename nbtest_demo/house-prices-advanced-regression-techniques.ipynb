{
 "cells": [
  {
   "cell_type": "markdown",
   "metadata": {},
   "source": [
    "# Importing the libraries"
   ]
  },
  {
   "cell_type": "code",
   "execution_count": null,
   "metadata": {
    "execution": {
     "iopub.execute_input": "2024-08-03T13:14:22.540449Z",
     "iopub.status.busy": "2024-08-03T13:14:22.540039Z",
     "iopub.status.idle": "2024-08-03T13:14:22.548116Z",
     "shell.execute_reply": "2024-08-03T13:14:22.546906Z",
     "shell.execute_reply.started": "2024-08-03T13:14:22.540416Z"
    },
    "trusted": true
   },
   "outputs": [],
   "source": [
    "# Essentials\n",
    "import numpy as np\n",
    "import pandas as pd\n",
    "\n",
    "# Visualization\n",
    "import matplotlib.pyplot as plt\n",
    "import seaborn as sns\n",
    "\n",
    "# Miscs\n",
    "from sklearn.impute import SimpleImputer\n",
    "import missingno as msno\n",
    "from sklearn.metrics import mean_squared_error, r2_score\n",
    "from sklearn.model_selection import train_test_split, cross_val_score\n",
    "from sklearn.preprocessing import StandardScaler\n",
    "\n",
    "# Models\n",
    "from sklearn.linear_model import LinearRegression\n",
    "from sklearn.svm import SVR\n",
    "from sklearn.tree import DecisionTreeRegressor\n",
    "from sklearn.ensemble import RandomForestRegressor\n",
    "from sklearn.preprocessing import PolynomialFeatures\n",
    "\n",
    "# Warning\n",
    "import warnings\n",
    "warnings.filterwarnings('ignore')"
   ]
  },
  {
   "cell_type": "markdown",
   "metadata": {},
   "source": [
    "# Importing the dataset"
   ]
  },
  {
   "cell_type": "code",
   "execution_count": null,
   "metadata": {
    "execution": {
     "iopub.execute_input": "2024-08-03T13:14:22.55092Z",
     "iopub.status.busy": "2024-08-03T13:14:22.550553Z",
     "iopub.status.idle": "2024-08-03T13:14:22.590904Z",
     "shell.execute_reply": "2024-08-03T13:14:22.589567Z",
     "shell.execute_reply.started": "2024-08-03T13:14:22.55086Z"
    },
    "trusted": true
   },
   "outputs": [],
   "source": [
    "train_df = pd.read_csv(\"./input/train.csv\")"
   ]
  },
  {
   "cell_type": "code",
   "execution_count": null,
   "metadata": {
    "execution": {
     "iopub.execute_input": "2024-08-03T13:14:22.592632Z",
     "iopub.status.busy": "2024-08-03T13:14:22.592275Z",
     "iopub.status.idle": "2024-08-03T13:14:22.61734Z",
     "shell.execute_reply": "2024-08-03T13:14:22.616122Z",
     "shell.execute_reply.started": "2024-08-03T13:14:22.592603Z"
    },
    "trusted": true
   },
   "outputs": [],
   "source": [
    "train_df.head(10)"
   ]
  },
  {
   "cell_type": "markdown",
   "metadata": {},
   "source": [
    "Data Preparation"
   ]
  },
  {
   "cell_type": "code",
   "execution_count": null,
   "metadata": {
    "execution": {
     "iopub.execute_input": "2024-08-03T13:14:22.619232Z",
     "iopub.status.busy": "2024-08-03T13:14:22.618826Z",
     "iopub.status.idle": "2024-08-03T13:14:22.627746Z",
     "shell.execute_reply": "2024-08-03T13:14:22.626646Z",
     "shell.execute_reply.started": "2024-08-03T13:14:22.619196Z"
    },
    "trusted": true
   },
   "outputs": [],
   "source": [
    "train_df = train_df.drop('Id', axis=1)"
   ]
  },
  {
   "cell_type": "code",
   "execution_count": null,
   "metadata": {
    "execution": {
     "iopub.execute_input": "2024-08-03T13:14:22.631271Z",
     "iopub.status.busy": "2024-08-03T13:14:22.630917Z",
     "iopub.status.idle": "2024-08-03T13:14:22.658573Z",
     "shell.execute_reply": "2024-08-03T13:14:22.657402Z",
     "shell.execute_reply.started": "2024-08-03T13:14:22.631244Z"
    },
    "trusted": true
   },
   "outputs": [],
   "source": [
    "train_df.head(3)"
   ]
  },
  {
   "cell_type": "markdown",
   "metadata": {},
   "source": [
    "# Exploratory Data Analysis"
   ]
  },
  {
   "cell_type": "markdown",
   "metadata": {},
   "source": [
    "Data Shape"
   ]
  },
  {
   "cell_type": "code",
   "execution_count": null,
   "metadata": {
    "execution": {
     "iopub.execute_input": "2024-08-03T13:14:22.660103Z",
     "iopub.status.busy": "2024-08-03T13:14:22.659766Z",
     "iopub.status.idle": "2024-08-03T13:14:22.67012Z",
     "shell.execute_reply": "2024-08-03T13:14:22.668964Z",
     "shell.execute_reply.started": "2024-08-03T13:14:22.660075Z"
    },
    "trusted": true
   },
   "outputs": [],
   "source": [
    "train_df.shape"
   ]
  },
  {
   "cell_type": "markdown",
   "metadata": {},
   "source": [
    "Checking for Duplicates"
   ]
  },
  {
   "cell_type": "code",
   "execution_count": null,
   "metadata": {
    "execution": {
     "iopub.execute_input": "2024-08-03T13:14:22.672512Z",
     "iopub.status.busy": "2024-08-03T13:14:22.67151Z",
     "iopub.status.idle": "2024-08-03T13:14:22.70089Z",
     "shell.execute_reply": "2024-08-03T13:14:22.699857Z",
     "shell.execute_reply.started": "2024-08-03T13:14:22.672475Z"
    },
    "trusted": true
   },
   "outputs": [],
   "source": [
    "train_df.drop_duplicates(inplace=True)"
   ]
  },
  {
   "cell_type": "markdown",
   "metadata": {},
   "source": [
    "Checking data types"
   ]
  },
  {
   "cell_type": "code",
   "execution_count": null,
   "metadata": {
    "execution": {
     "iopub.execute_input": "2024-08-03T13:14:22.702597Z",
     "iopub.status.busy": "2024-08-03T13:14:22.702234Z",
     "iopub.status.idle": "2024-08-03T13:14:22.713961Z",
     "shell.execute_reply": "2024-08-03T13:14:22.712798Z",
     "shell.execute_reply.started": "2024-08-03T13:14:22.702568Z"
    },
    "trusted": true
   },
   "outputs": [],
   "source": [
    "train_df.dtypes.value_counts()"
   ]
  },
  {
   "cell_type": "markdown",
   "metadata": {},
   "source": [
    "Data info"
   ]
  },
  {
   "cell_type": "code",
   "execution_count": null,
   "metadata": {
    "execution": {
     "iopub.execute_input": "2024-08-03T13:14:22.715458Z",
     "iopub.status.busy": "2024-08-03T13:14:22.715133Z",
     "iopub.status.idle": "2024-08-03T13:14:22.74147Z",
     "shell.execute_reply": "2024-08-03T13:14:22.740252Z",
     "shell.execute_reply.started": "2024-08-03T13:14:22.715432Z"
    },
    "trusted": true
   },
   "outputs": [],
   "source": [
    "train_df.info()"
   ]
  },
  {
   "cell_type": "markdown",
   "metadata": {},
   "source": [
    "Numerical Features"
   ]
  },
  {
   "cell_type": "code",
   "execution_count": null,
   "metadata": {
    "execution": {
     "iopub.execute_input": "2024-08-03T13:14:22.743304Z",
     "iopub.status.busy": "2024-08-03T13:14:22.742871Z",
     "iopub.status.idle": "2024-08-03T13:14:22.752574Z",
     "shell.execute_reply": "2024-08-03T13:14:22.751473Z",
     "shell.execute_reply.started": "2024-08-03T13:14:22.743275Z"
    },
    "trusted": true
   },
   "outputs": [],
   "source": [
    "numerical_features=list(train_df.select_dtypes(include=['float64','int64']).columns)\n",
    "print(numerical_features)"
   ]
  },
  {
   "cell_type": "markdown",
   "metadata": {},
   "source": [
    "Categorical Features"
   ]
  },
  {
   "cell_type": "code",
   "execution_count": null,
   "metadata": {
    "execution": {
     "iopub.execute_input": "2024-08-03T13:14:22.756446Z",
     "iopub.status.busy": "2024-08-03T13:14:22.756075Z",
     "iopub.status.idle": "2024-08-03T13:14:22.766125Z",
     "shell.execute_reply": "2024-08-03T13:14:22.764878Z",
     "shell.execute_reply.started": "2024-08-03T13:14:22.75641Z"
    },
    "trusted": true
   },
   "outputs": [],
   "source": [
    "categorical_features=list((train_df.select_dtypes(exclude=['float64','int64']).columns))\n",
    "print(categorical_features)"
   ]
  },
  {
   "cell_type": "markdown",
   "metadata": {},
   "source": [
    "Checking for missing values"
   ]
  },
  {
   "cell_type": "code",
   "execution_count": null,
   "metadata": {
    "execution": {
     "iopub.execute_input": "2024-08-03T13:14:22.768378Z",
     "iopub.status.busy": "2024-08-03T13:14:22.767606Z",
     "iopub.status.idle": "2024-08-03T13:14:22.783732Z",
     "shell.execute_reply": "2024-08-03T13:14:22.782684Z",
     "shell.execute_reply.started": "2024-08-03T13:14:22.768335Z"
    },
    "trusted": true
   },
   "outputs": [],
   "source": [
    "train_df.isnull().sum()"
   ]
  },
  {
   "cell_type": "markdown",
   "metadata": {},
   "source": [
    "Statistics of our dataset"
   ]
  },
  {
   "cell_type": "code",
   "execution_count": null,
   "metadata": {
    "execution": {
     "iopub.execute_input": "2024-08-03T13:14:22.786023Z",
     "iopub.status.busy": "2024-08-03T13:14:22.785294Z",
     "iopub.status.idle": "2024-08-03T13:14:22.877503Z",
     "shell.execute_reply": "2024-08-03T13:14:22.876251Z",
     "shell.execute_reply.started": "2024-08-03T13:14:22.785987Z"
    },
    "trusted": true
   },
   "outputs": [],
   "source": [
    "train_df.describe()"
   ]
  },
  {
   "cell_type": "markdown",
   "metadata": {},
   "source": [
    "Correlation Matrix"
   ]
  },
  {
   "cell_type": "code",
   "execution_count": null,
   "metadata": {
    "execution": {
     "iopub.execute_input": "2024-08-03T13:14:22.879409Z",
     "iopub.status.busy": "2024-08-03T13:14:22.879041Z",
     "iopub.status.idle": "2024-08-03T13:14:22.931965Z",
     "shell.execute_reply": "2024-08-03T13:14:22.930852Z",
     "shell.execute_reply.started": "2024-08-03T13:14:22.879368Z"
    },
    "trusted": true
   },
   "outputs": [],
   "source": [
    "# Select only the numeric columns from the DataFrame\n",
    "numeric_df = train_df.select_dtypes(include=[float, int])\n",
    "\n",
    "# Correlation matrix\n",
    "numeric_df.corr()"
   ]
  },
  {
   "cell_type": "markdown",
   "metadata": {},
   "source": [
    "# Data Cleaning"
   ]
  },
  {
   "cell_type": "markdown",
   "metadata": {},
   "source": [
    "Data Redundancy"
   ]
  },
  {
   "cell_type": "markdown",
   "metadata": {},
   "source": [
    "columns"
   ]
  },
  {
   "cell_type": "code",
   "execution_count": null,
   "metadata": {
    "execution": {
     "iopub.execute_input": "2024-08-03T13:14:22.934189Z",
     "iopub.status.busy": "2024-08-03T13:14:22.933607Z",
     "iopub.status.idle": "2024-08-03T13:14:22.940118Z",
     "shell.execute_reply": "2024-08-03T13:14:22.93914Z",
     "shell.execute_reply.started": "2024-08-03T13:14:22.934149Z"
    },
    "trusted": true
   },
   "outputs": [],
   "source": [
    "duplicated_columns = train_df.columns[train_df.columns.duplicated()]\n",
    "if len(duplicated_columns) > 0:\n",
    "    print(\"Duplicated columns:\", duplicated_columns)\n",
    "else:\n",
    "    print(\"No duplicated columns found.\")"
   ]
  },
  {
   "cell_type": "markdown",
   "metadata": {},
   "source": [
    "rows"
   ]
  },
  {
   "cell_type": "code",
   "execution_count": null,
   "metadata": {
    "execution": {
     "iopub.execute_input": "2024-08-03T13:14:22.942097Z",
     "iopub.status.busy": "2024-08-03T13:14:22.94153Z",
     "iopub.status.idle": "2024-08-03T13:14:22.966576Z",
     "shell.execute_reply": "2024-08-03T13:14:22.96546Z",
     "shell.execute_reply.started": "2024-08-03T13:14:22.942066Z"
    },
    "trusted": true
   },
   "outputs": [],
   "source": [
    "duplicated_rows = train_df[train_df.duplicated()]\n",
    "if not duplicated_rows.empty:\n",
    "    print(\"Duplicated rows:\")\n",
    "    print(duplicated_rows)\n",
    "else:\n",
    "    print(\"No duplicated rows found.\")"
   ]
  },
  {
   "cell_type": "markdown",
   "metadata": {},
   "source": [
    "Missing Values"
   ]
  },
  {
   "cell_type": "code",
   "execution_count": null,
   "metadata": {
    "execution": {
     "iopub.execute_input": "2024-08-03T13:14:22.96893Z",
     "iopub.status.busy": "2024-08-03T13:14:22.968194Z",
     "iopub.status.idle": "2024-08-03T13:14:23.736625Z",
     "shell.execute_reply": "2024-08-03T13:14:23.735498Z",
     "shell.execute_reply.started": "2024-08-03T13:14:22.968892Z"
    },
    "trusted": true
   },
   "outputs": [],
   "source": [
    "msno.matrix(train_df)"
   ]
  },
  {
   "cell_type": "markdown",
   "metadata": {},
   "source": [
    "Mean for missing numerical features"
   ]
  },
  {
   "cell_type": "code",
   "execution_count": null,
   "metadata": {
    "execution": {
     "iopub.execute_input": "2024-08-03T13:14:23.738398Z",
     "iopub.status.busy": "2024-08-03T13:14:23.738032Z",
     "iopub.status.idle": "2024-08-03T13:14:23.751179Z",
     "shell.execute_reply": "2024-08-03T13:14:23.750263Z",
     "shell.execute_reply.started": "2024-08-03T13:14:23.738369Z"
    },
    "tags": [],
    "trusted": true
   },
   "outputs": [],
   "source": [
    "imputer = SimpleImputer(missing_values=np.nan, strategy='mean')\n",
    "null_numerical_columns = ['LotFrontage', 'MasVnrArea', 'GarageYrBlt']\n",
    "imputer.fit(train_df[null_numerical_columns])\n",
    "train_df[null_numerical_columns] = imputer.transform(train_df[null_numerical_columns])"
   ]
  },
  {
   "cell_type": "markdown",
   "metadata": {},
   "source": [
    "Most frequent for missing categorical features"
   ]
  },
  {
   "cell_type": "code",
   "execution_count": null,
   "metadata": {
    "execution": {
     "iopub.execute_input": "2024-08-03T13:14:23.753618Z",
     "iopub.status.busy": "2024-08-03T13:14:23.752727Z",
     "iopub.status.idle": "2024-08-03T13:14:23.777245Z",
     "shell.execute_reply": "2024-08-03T13:14:23.776115Z",
     "shell.execute_reply.started": "2024-08-03T13:14:23.753586Z"
    },
    "trusted": true
   },
   "outputs": [],
   "source": [
    "imputer = SimpleImputer(missing_values=np.nan, strategy='most_frequent')\n",
    "null_catagorical_columns = ['Alley', 'MasVnrType', 'BsmtQual', 'BsmtCond', 'BsmtExposure', 'BsmtFinType1', 'BsmtFinType2', 'Electrical', 'FireplaceQu', 'GarageType', 'GarageFinish', 'GarageQual', 'GarageCond', 'PoolQC', 'Fence', 'MiscFeature']\n",
    "imputer.fit(train_df[null_catagorical_columns])\n",
    "train_df[null_catagorical_columns] = imputer.transform(train_df[null_catagorical_columns])"
   ]
  },
  {
   "cell_type": "code",
   "execution_count": null,
   "metadata": {
    "execution": {
     "iopub.execute_input": "2024-08-03T13:14:23.778969Z",
     "iopub.status.busy": "2024-08-03T13:14:23.7786Z",
     "iopub.status.idle": "2024-08-03T13:14:23.791901Z",
     "shell.execute_reply": "2024-08-03T13:14:23.790671Z",
     "shell.execute_reply.started": "2024-08-03T13:14:23.778938Z"
    },
    "trusted": true
   },
   "outputs": [],
   "source": [
    "train_df.isnull().sum().sum()"
   ]
  },
  {
   "cell_type": "markdown",
   "metadata": {},
   "source": [
    "One Hot Encoder"
   ]
  },
  {
   "cell_type": "code",
   "execution_count": null,
   "metadata": {
    "execution": {
     "iopub.execute_input": "2024-08-03T13:14:23.793507Z",
     "iopub.status.busy": "2024-08-03T13:14:23.793177Z",
     "iopub.status.idle": "2024-08-03T13:14:23.861442Z",
     "shell.execute_reply": "2024-08-03T13:14:23.8602Z",
     "shell.execute_reply.started": "2024-08-03T13:14:23.793473Z"
    },
    "trusted": true
   },
   "outputs": [],
   "source": [
    "# Encode the selected columns\n",
    "dummies = pd.get_dummies(train_df[categorical_features], drop_first=True)\n",
    "\n",
    "# Concatenate the encoded columns with the original dataset\n",
    "train_df = pd.concat([train_df, dummies], axis=1)\n",
    "\n",
    "# Drop the original columns that have been encoded\n",
    "train_df.drop(categorical_features, axis=1, inplace=True)\n",
    "\n",
    "# Output the modified dataset\n",
    "train_df.head()"
   ]
  },
  {
   "cell_type": "markdown",
   "metadata": {},
   "source": [
    "# Plotting relationship between variables"
   ]
  },
  {
   "cell_type": "markdown",
   "metadata": {},
   "source": [
    "SalePrice's Density"
   ]
  },
  {
   "cell_type": "code",
   "execution_count": null,
   "metadata": {
    "execution": {
     "iopub.execute_input": "2024-08-03T13:14:23.863142Z",
     "iopub.status.busy": "2024-08-03T13:14:23.862816Z",
     "iopub.status.idle": "2024-08-03T13:14:24.234962Z",
     "shell.execute_reply": "2024-08-03T13:14:24.233863Z",
     "shell.execute_reply.started": "2024-08-03T13:14:23.863113Z"
    },
    "trusted": true
   },
   "outputs": [],
   "source": [
    "sns.distplot(train_df['SalePrice']);"
   ]
  },
  {
   "cell_type": "markdown",
   "metadata": {},
   "source": [
    "SalePrice vs OverallQual"
   ]
  },
  {
   "cell_type": "code",
   "execution_count": null,
   "metadata": {
    "execution": {
     "iopub.execute_input": "2024-08-03T13:14:24.236541Z",
     "iopub.status.busy": "2024-08-03T13:14:24.236197Z",
     "iopub.status.idle": "2024-08-03T13:14:26.471701Z",
     "shell.execute_reply": "2024-08-03T13:14:26.470608Z",
     "shell.execute_reply.started": "2024-08-03T13:14:24.2365Z"
    },
    "trusted": true
   },
   "outputs": [],
   "source": [
    "plt.figure(figsize=(8, 6))\n",
    "plt.bar(train_df['OverallQual'], train_df['SalePrice'], color='skyblue')  # Create the bar plot\n",
    "plt.xlabel('OverallQual', fontsize=12)\n",
    "plt.ylabel('SalePrice', fontsize=12)\n",
    "plt.title('SalePrice vs OverallQual', fontsize=16) \n",
    "\n",
    "\n",
    "plt.show()"
   ]
  },
  {
   "cell_type": "markdown",
   "metadata": {},
   "source": [
    "SalePrice vs YearBuilt"
   ]
  },
  {
   "cell_type": "code",
   "execution_count": null,
   "metadata": {
    "execution": {
     "iopub.execute_input": "2024-08-03T13:14:26.473685Z",
     "iopub.status.busy": "2024-08-03T13:14:26.473237Z",
     "iopub.status.idle": "2024-08-03T13:14:29.018949Z",
     "shell.execute_reply": "2024-08-03T13:14:29.017819Z",
     "shell.execute_reply.started": "2024-08-03T13:14:26.473646Z"
    },
    "trusted": true
   },
   "outputs": [],
   "source": [
    "plt.figure(figsize=(12, 6))  \n",
    "\n",
    "sns.lineplot(x=\"YearBuilt\", y=\"SalePrice\", data=train_df, label='SalePrice', marker='o', color='grey')\n",
    "\n",
    "plt.title(\"SalePrice vs YearBuilt\", fontsize=16)\n",
    "plt.xlabel(\"YearBuilt\", fontsize=12)\n",
    "plt.ylabel(\"SalePrice\", fontsize=12)\n",
    "\n",
    "# Customize the x-axis ticks to show more years\n",
    "plt.xticks(range(min(train_df['YearBuilt']), max(train_df['YearBuilt']) + 1, 10))  # Adjust the interval (e.g., 10 years)\n",
    "\n",
    "plt.legend()\n",
    "plt.tight_layout()\n",
    "plt.show()"
   ]
  },
  {
   "cell_type": "markdown",
   "metadata": {},
   "source": [
    "SalePrice vs GarageCars"
   ]
  },
  {
   "cell_type": "code",
   "execution_count": null,
   "metadata": {
    "execution": {
     "iopub.execute_input": "2024-08-03T13:14:29.020794Z",
     "iopub.status.busy": "2024-08-03T13:14:29.020418Z",
     "iopub.status.idle": "2024-08-03T13:14:29.517069Z",
     "shell.execute_reply": "2024-08-03T13:14:29.51599Z",
     "shell.execute_reply.started": "2024-08-03T13:14:29.020761Z"
    },
    "trusted": true
   },
   "outputs": [],
   "source": [
    "sns.set(style=\"whitegrid\")\n",
    "ax = sns.barplot(x=\"GarageCars\", y=\"SalePrice\", data=train_df, color='red')\n",
    "plt.title(\"SalePrice vs GarageCars\", fontsize=16)\n",
    "ax.set_xlabel(\"GarageCars\", fontsize=12)\n",
    "ax.set_ylabel(\"SalePrice\", fontsize=12)\n",
    "plt.tight_layout()\n",
    "plt.show()"
   ]
  },
  {
   "cell_type": "markdown",
   "metadata": {},
   "source": [
    "# Machine Learning"
   ]
  },
  {
   "cell_type": "markdown",
   "metadata": {},
   "source": [
    "Pre-processing Steps for Machine Learning\n"
   ]
  },
  {
   "cell_type": "code",
   "execution_count": null,
   "metadata": {
    "execution": {
     "iopub.execute_input": "2024-08-03T13:14:29.51866Z",
     "iopub.status.busy": "2024-08-03T13:14:29.518342Z",
     "iopub.status.idle": "2024-08-03T13:14:29.524877Z",
     "shell.execute_reply": "2024-08-03T13:14:29.523765Z",
     "shell.execute_reply.started": "2024-08-03T13:14:29.518633Z"
    },
    "trusted": true
   },
   "outputs": [],
   "source": [
    "X = train_df.drop('SalePrice', axis=1)\n",
    "y = train_df['SalePrice']"
   ]
  },
  {
   "cell_type": "markdown",
   "metadata": {},
   "source": [
    "Spliting the Data"
   ]
  },
  {
   "cell_type": "code",
   "execution_count": null,
   "metadata": {
    "execution": {
     "iopub.execute_input": "2024-08-03T13:14:29.526655Z",
     "iopub.status.busy": "2024-08-03T13:14:29.526241Z",
     "iopub.status.idle": "2024-08-03T13:14:29.541059Z",
     "shell.execute_reply": "2024-08-03T13:14:29.539988Z",
     "shell.execute_reply.started": "2024-08-03T13:14:29.526627Z"
    },
    "trusted": true
   },
   "outputs": [],
   "source": [
    "X_train, X_test, y_train, y_test = train_test_split(X, y, test_size=0.2, random_state=42)"
   ]
  },
  {
   "cell_type": "markdown",
   "metadata": {},
   "source": [
    "Feature Scaling"
   ]
  },
  {
   "cell_type": "code",
   "execution_count": null,
   "metadata": {
    "execution": {
     "iopub.execute_input": "2024-08-03T13:14:29.546809Z",
     "iopub.status.busy": "2024-08-03T13:14:29.546134Z",
     "iopub.status.idle": "2024-08-03T13:14:29.578581Z",
     "shell.execute_reply": "2024-08-03T13:14:29.57753Z",
     "shell.execute_reply.started": "2024-08-03T13:14:29.546777Z"
    },
    "trusted": true
   },
   "outputs": [],
   "source": [
    "sc = StandardScaler()\n",
    "X_train = sc.fit_transform(X_train)\n",
    "X_test = sc.transform(X_test)"
   ]
  },
  {
   "cell_type": "markdown",
   "metadata": {},
   "source": [
    "Model Selection"
   ]
  },
  {
   "cell_type": "code",
   "execution_count": null,
   "metadata": {
    "execution": {
     "iopub.execute_input": "2024-08-03T13:14:29.580218Z",
     "iopub.status.busy": "2024-08-03T13:14:29.579906Z",
     "iopub.status.idle": "2024-08-03T13:15:10.444198Z",
     "shell.execute_reply": "2024-08-03T13:15:10.442968Z",
     "shell.execute_reply.started": "2024-08-03T13:14:29.58019Z"
    },
    "trusted": true
   },
   "outputs": [],
   "source": [
    "# Initialize models\n",
    "models = {\n",
    "    \"Multiple Linear Regression\": LinearRegression(),\n",
    "    \"Polynomial Regression\": LinearRegression(),\n",
    "    \"Support Vector Regression\": SVR(),\n",
    "    \"Decision Tree Regression\": DecisionTreeRegressor(),\n",
    "    \"Random Forest Regression\": RandomForestRegressor()\n",
    "}\n",
    "\n",
    "# Define parameters for polynomial regression\n",
    "poly_degree = 2  # Change the degree as needed\n",
    "\n",
    "# Create a dictionary to store the cross-validation scores for each model\n",
    "cv_scores = {}\n",
    "\n",
    "for model_name, model in models.items():\n",
    "    if model_name == \"Polynomial Regression\":\n",
    "        poly_features = PolynomialFeatures(degree=poly_degree)\n",
    "        X_train_poly = poly_features.fit_transform(X_train)\n",
    "        scores = cross_val_score(model, X_train_poly, y_train, scoring=\"neg_mean_squared_error\", cv=5)\n",
    "    else:\n",
    "        scores = cross_val_score(model, X_train, y_train, scoring=\"neg_mean_squared_error\", cv=5)\n",
    "    \n",
    "    mse_scores = -scores  # Convert negative MSE scores to positive\n",
    "    cv_scores[model_name] = mse_scores.mean()\n",
    "\n",
    "# Find the best model based on the lowest MSE\n",
    "best_model_name = min(cv_scores, key=cv_scores.get)\n",
    "best_model = models[best_model_name]\n",
    "\n",
    "# Train the best model on the full training dataset\n",
    "if best_model_name == \"Polynomial Regression\":\n",
    "    poly_features = PolynomialFeatures(degree=poly_degree)\n",
    "    X_train_poly = poly_features.fit_transform(X_train)\n",
    "    best_model.fit(X_train_poly, y_train)\n",
    "else:\n",
    "    best_model.fit(X_train, y_train)\n",
    "\n",
    "# Evaluate the best model on the test dataset\n",
    "if best_model_name == \"Polynomial Regression\":\n",
    "    X_test_poly = poly_features.transform(X_test)\n",
    "    y_pred = best_model.predict(X_test_poly)\n",
    "else:\n",
    "    y_pred = best_model.predict(X_test)\n",
    "\n",
    "# Calculate Mean Squared Error on the test dataset\n",
    "mse = mean_squared_error(y_test, y_pred)\n",
    "\n",
    "print(f\"Best Model: {best_model_name}\")\n",
    "print(f\"Mean Squared Error on Test Data: {mse}\")"
   ]
  },
  {
   "cell_type": "markdown",
   "metadata": {},
   "source": [
    "Correlation"
   ]
  },
  {
   "cell_type": "code",
   "execution_count": null,
   "metadata": {
    "execution": {
     "iopub.execute_input": "2024-08-03T13:15:10.445698Z",
     "iopub.status.busy": "2024-08-03T13:15:10.445408Z",
     "iopub.status.idle": "2024-08-03T13:15:57.146272Z",
     "shell.execute_reply": "2024-08-03T13:15:57.144813Z",
     "shell.execute_reply.started": "2024-08-03T13:15:10.445673Z"
    },
    "trusted": true
   },
   "outputs": [],
   "source": [
    "# Create a dictionary to store the cross-validation scores and test MSE for each model\n",
    "results = {\n",
    "    \"Model\": [],\n",
    "    \"Cross-Validation MSE\": [],\n",
    "    \"Test MSE\": []\n",
    "}\n",
    "\n",
    "for model_name, model in models.items():\n",
    "    # Cross-validation\n",
    "    if model_name == \"Polynomial Regression\":\n",
    "        poly_features = PolynomialFeatures(degree=poly_degree)\n",
    "        X_train_poly = poly_features.fit_transform(X_train)\n",
    "        scores = cross_val_score(model, X_train_poly, y_train, scoring=\"neg_mean_squared_error\", cv=5)\n",
    "    else:\n",
    "        scores = cross_val_score(model, X_train, y_train, scoring=\"neg_mean_squared_error\", cv=5)\n",
    "    \n",
    "    mse_scores = -scores  # Convert negative MSE scores to positive\n",
    "    cv_mse_mean = mse_scores.mean()\n",
    "    \n",
    "    # Train and evaluate on the test data\n",
    "    if model_name == \"Polynomial Regression\":\n",
    "        poly_features = PolynomialFeatures(degree=poly_degree)\n",
    "        X_train_poly = poly_features.fit_transform(X_train)\n",
    "        model.fit(X_train_poly, y_train)\n",
    "        X_test_poly = poly_features.transform(X_test)\n",
    "        y_pred = model.predict(X_test_poly)\n",
    "    else:\n",
    "        model.fit(X_train, y_train)\n",
    "        y_pred = model.predict(X_test)\n",
    "    \n",
    "    test_mse = mean_squared_error(y_test, y_pred)\n",
    "    \n",
    "    # Store the results in the dictionary\n",
    "    results[\"Model\"].append(model_name)\n",
    "    results[\"Cross-Validation MSE\"].append(cv_mse_mean)\n",
    "    results[\"Test MSE\"].append(test_mse)\n",
    "\n",
    "# Create a DataFrame from the results dictionary\n",
    "results_df = pd.DataFrame(results)\n",
    "\n",
    "# Display the results table\n",
    "print(results_df)"
   ]
  },
  {
   "cell_type": "markdown",
   "metadata": {},
   "source": [
    "Training Random Forest Regresssion"
   ]
  },
  {
   "cell_type": "code",
   "execution_count": null,
   "metadata": {
    "execution": {
     "iopub.execute_input": "2024-08-03T13:15:57.148662Z",
     "iopub.status.busy": "2024-08-03T13:15:57.14775Z",
     "iopub.status.idle": "2024-08-03T13:15:57.426553Z",
     "shell.execute_reply": "2024-08-03T13:15:57.425371Z",
     "shell.execute_reply.started": "2024-08-03T13:15:57.148626Z"
    },
    "trusted": true
   },
   "outputs": [],
   "source": [
    "regressor = RandomForestRegressor(n_estimators = 10, random_state = 0)\n",
    "regressor.fit(X_train, y_train)"
   ]
  },
  {
   "cell_type": "markdown",
   "metadata": {},
   "source": [
    "Predicting the Test set results"
   ]
  },
  {
   "cell_type": "code",
   "execution_count": null,
   "metadata": {
    "execution": {
     "iopub.execute_input": "2024-08-03T13:15:57.428121Z",
     "iopub.status.busy": "2024-08-03T13:15:57.427808Z",
     "iopub.status.idle": "2024-08-03T13:15:57.435477Z",
     "shell.execute_reply": "2024-08-03T13:15:57.434227Z",
     "shell.execute_reply.started": "2024-08-03T13:15:57.428095Z"
    },
    "trusted": true
   },
   "outputs": [],
   "source": [
    "y_pred = regressor.predict(X_test)"
   ]
  },
  {
   "cell_type": "markdown",
   "metadata": {},
   "source": [
    "Visualising the Random Forest Regression"
   ]
  },
  {
   "cell_type": "code",
   "execution_count": null,
   "metadata": {
    "execution": {
     "iopub.execute_input": "2024-08-03T13:15:57.437342Z",
     "iopub.status.busy": "2024-08-03T13:15:57.436982Z",
     "iopub.status.idle": "2024-08-03T13:15:57.81087Z",
     "shell.execute_reply": "2024-08-03T13:15:57.809794Z",
     "shell.execute_reply.started": "2024-08-03T13:15:57.437298Z"
    },
    "trusted": true
   },
   "outputs": [],
   "source": [
    "plt.figure(figsize=(8, 8))\n",
    "plt.scatter(y_test, y_pred, alpha=0.5, color = 'green')\n",
    "plt.xlabel(\"Actual Values\")\n",
    "plt.ylabel(\"Predicted Values\")\n",
    "plt.title(\"Random Forest Regression\")\n",
    "plt.grid(True)\n",
    "plt.show()"
   ]
  },
  {
   "cell_type": "markdown",
   "metadata": {},
   "source": [
    "Evaluating the model performance"
   ]
  },
  {
   "cell_type": "code",
   "execution_count": null,
   "metadata": {
    "execution": {
     "iopub.execute_input": "2024-08-03T13:15:57.812668Z",
     "iopub.status.busy": "2024-08-03T13:15:57.812371Z",
     "iopub.status.idle": "2024-08-03T13:15:57.820504Z",
     "shell.execute_reply": "2024-08-03T13:15:57.819142Z",
     "shell.execute_reply.started": "2024-08-03T13:15:57.812643Z"
    },
    "trusted": true
   },
   "outputs": [],
   "source": [
    "r2_score(y_test, y_pred)"
   ]
  }
 ],
 "metadata": {
  "kaggle": {
   "accelerator": "none",
   "dataSources": [
    {
     "databundleVersionId": 868283,
     "sourceId": 5407,
     "sourceType": "competition"
    }
   ],
   "dockerImageVersionId": 30746,
   "isGpuEnabled": false,
   "isInternetEnabled": true,
   "language": "python",
   "sourceType": "notebook"
  },
  "kernelspec": {
   "display_name": "Python 3",
   "language": "python",
   "name": "python3"
  },
  "language_info": {
   "codemirror_mode": {
    "name": "ipython",
    "version": 3
   },
   "file_extension": ".py",
   "mimetype": "text/x-python",
   "name": "python",
   "nbconvert_exporter": "python",
   "pygments_lexer": "ipython3",
   "version": "3.10.13"
  }
 },
 "nbformat": 4,
 "nbformat_minor": 4
}
